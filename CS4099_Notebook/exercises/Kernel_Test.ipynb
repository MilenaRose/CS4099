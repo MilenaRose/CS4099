{
 "cells": [
  {
   "cell_type": "markdown",
   "id": "af57c019-0adf-434a-b82b-8f7fe7feea96",
   "metadata": {},
   "source": [
    "# Kernel Testing\n",
    "Use this notebook to become familiar with how kernels can be used for notebooks to share state."
   ]
  },
  {
   "cell_type": "markdown",
   "id": "055f6ce1-b2e4-4b45-afb4-512fe4c63732",
   "metadata": {},
   "source": [
    "Click on the kernel button in the top right. It should say Python 3 (ipykernel)  \n",
    "Then click on the drop-down list and select Main_notebook.ipynb  \n",
    "This will allow you to access your_variable from this notebook!  "
   ]
  },
  {
   "cell_type": "code",
   "execution_count": 1,
   "id": "58560022-e0e8-4a2f-92c6-da4172e2ed03",
   "metadata": {},
   "outputs": [
    {
     "ename": "NameError",
     "evalue": "name 'your_variable' is not defined",
     "output_type": "error",
     "traceback": [
      "\u001b[1;31m---------------------------------------------------------------------------\u001b[0m",
      "\u001b[1;31mNameError\u001b[0m                                 Traceback (most recent call last)",
      "\u001b[1;32m~\\AppData\\Local\\Temp\\ipykernel_20580\\459105192.py\u001b[0m in \u001b[0;36m<module>\u001b[1;34m\u001b[0m\n\u001b[1;32m----> 1\u001b[1;33m \u001b[0mprint\u001b[0m\u001b[1;33m(\u001b[0m\u001b[0myour_variable\u001b[0m\u001b[1;33m)\u001b[0m\u001b[1;33m\u001b[0m\u001b[1;33m\u001b[0m\u001b[0m\n\u001b[0m",
      "\u001b[1;31mNameError\u001b[0m: name 'your_variable' is not defined"
     ]
    }
   ],
   "source": [
    "print(your_variable)"
   ]
  }
 ],
 "metadata": {
  "kernelspec": {
   "display_name": "Python 3 (ipykernel)",
   "language": "python",
   "name": "python3"
  },
  "language_info": {
   "codemirror_mode": {
    "name": "ipython",
    "version": 3
   },
   "file_extension": ".py",
   "mimetype": "text/x-python",
   "name": "python",
   "nbconvert_exporter": "python",
   "pygments_lexer": "ipython3",
   "version": "3.10.0"
  }
 },
 "nbformat": 4,
 "nbformat_minor": 5
}
