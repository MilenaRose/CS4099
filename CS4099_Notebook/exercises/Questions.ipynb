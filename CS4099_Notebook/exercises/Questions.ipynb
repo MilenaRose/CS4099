{
 "cells": [
  {
   "cell_type": "markdown",
   "id": "97eef7b8-268c-49c9-a18b-24fbd0cb4556",
   "metadata": {},
   "source": [
    "# Do Not Submit!\n",
    "This notebook is just for me to encode the questions so the source can be hidden"
   ]
  },
  {
   "cell_type": "code",
   "execution_count": 1,
   "id": "cca05b07-646e-40c4-a26e-7313fe75c054",
   "metadata": {},
   "outputs": [],
   "source": [
    "import json\n",
    "from base64 import b64encode"
   ]
  },
  {
   "cell_type": "code",
   "execution_count": 2,
   "id": "c9efd332-adca-4f8f-8f7a-61a645a6d53c",
   "metadata": {},
   "outputs": [],
   "source": [
    "# REMEMBER TO HIDE\n",
    "\n",
    "ex1_question = [{\n",
    "        \"question\": \"Enter the code found in Ex1.txt:\",\n",
    "        \"type\": \"numeric\",\n",
    "        \"answers\": [\n",
    "            {\n",
    "                \"type\": \"value\",\n",
    "                \"value\": 4354,\n",
    "                \"correct\": True,\n",
    "                \"feedback\": \"Correct.\"\n",
    "            },\n",
    "            {\n",
    "                \"type\": \"default\",\n",
    "                \"feedback\": \"Incorrect.\"\n",
    "            }\n",
    "        ]\n",
    "    }]"
   ]
  },
  {
   "cell_type": "code",
   "execution_count": 3,
   "id": "dbd547c8-8770-4381-bd98-960616b673e8",
   "metadata": {},
   "outputs": [],
   "source": [
    "# REMEMBER TO HIDE\n",
    "\n",
    "ex2_question = [{\n",
    "        \"question\": \"How many axes does the array above have?\",\n",
    "        \"type\": \"many_choice\",\n",
    "        \"answers\": [\n",
    "            {\n",
    "                \"answer\": \"1\",\n",
    "                \"correct\": False,\n",
    "                \"feedback\": \"Incorrect. Try again.\"\n",
    "            },\n",
    "            {\n",
    "                \"answer\": \"2\",\n",
    "                \"correct\": False,\n",
    "                \"feedback\": \"Incorrect. Try again.\"\n",
    "            },\n",
    "            {\n",
    "                \"answer\": \"3\",\n",
    "                \"correct\": True,\n",
    "                \"feedback\": \"Correct\"\n",
    "            }\n",
    "        ]\n",
    "    }]"
   ]
  },
  {
   "cell_type": "code",
   "execution_count": 4,
   "id": "b11899bd-5ff1-4cbd-999f-b73b2f0e7d9b",
   "metadata": {},
   "outputs": [],
   "source": [
    "# REMEMBER TO HIDE\n",
    "\n",
    "ex3_question = [{\n",
    "        \"question\": \"What is the length of axis 0?\",\n",
    "        \"type\": \"many_choice\",\n",
    "        \"answers\": [\n",
    "            {\n",
    "                \"answer\": \"1\",\n",
    "                \"correct\": True,\n",
    "                \"feedback\": \"Correct.\"\n",
    "            },\n",
    "            {\n",
    "                \"answer\": \"2\",\n",
    "                \"correct\": False,\n",
    "                \"feedback\": \"Incorrect. Try again.\"\n",
    "            },\n",
    "            {\n",
    "                \"answer\": \"3\",\n",
    "                \"correct\": False,\n",
    "                \"feedback\": \"Incorrect. Try again.\"\n",
    "            }\n",
    "        ]\n",
    "    }]"
   ]
  },
  {
   "cell_type": "code",
   "execution_count": 5,
   "id": "07ab1400-b7eb-4430-ba21-a28a47fe95c2",
   "metadata": {},
   "outputs": [],
   "source": [
    "# REMEMBER TO HIDE\n",
    "\n",
    "ex4_question = [{\n",
    "        \"question\": \"What is the size of the array?\",\n",
    "        \"type\": \"many_choice\",\n",
    "        \"answers\": [\n",
    "            {\n",
    "                \"answer\": \"1\",\n",
    "                \"correct\": False,\n",
    "                \"feedback\": \"Incorrect. Try again.\"\n",
    "            },\n",
    "            {\n",
    "                \"answer\": \"3\",\n",
    "                \"correct\": False,\n",
    "                \"feedback\": \"Incorrect. Try again.\"\n",
    "            },\n",
    "            {\n",
    "                \"answer\": \"9\",\n",
    "                \"correct\": True,\n",
    "                \"feedback\": \"Correct.\"\n",
    "            }\n",
    "        ]\n",
    "    }]"
   ]
  },
  {
   "cell_type": "code",
   "execution_count": 6,
   "id": "198db489-405a-4fdd-af21-89ebbc5e6add",
   "metadata": {},
   "outputs": [],
   "source": [
    "# REMEMBER TO HIDE\n",
    "\n",
    "ex6_question = [{\n",
    "        \"question\": \"Which of these reshape operations will NOT work?\",\n",
    "        \"type\": \"many_choice\",\n",
    "        \"answers\": [\n",
    "            {\n",
    "                \"answer\": \"reshape(6,7)\",\n",
    "                \"correct\": False,\n",
    "                \"feedback\": \"Incorrect. 6 * 7 = 42.\"\n",
    "            },\n",
    "            {\n",
    "                \"answer\": \"reshape(2,3,7)\",\n",
    "                \"correct\": False,\n",
    "                \"feedback\": \"Incorrect. 2 * 3 * 7 = 42.\"\n",
    "            },\n",
    "            {\n",
    "                \"answer\": \"reshape(14, 4)\",\n",
    "                \"correct\": True,\n",
    "                \"feedback\": \"Correct. Well done!\"\n",
    "            },\n",
    "            {\n",
    "                \"answer\": \"reshape(21,2)\",\n",
    "                \"correct\": False,\n",
    "                \"feedback\": \"Incorrect. 21 * 2 = 42.\"\n",
    "            }\n",
    "        ]\n",
    "    }]"
   ]
  },
  {
   "cell_type": "code",
   "execution_count": 9,
   "id": "f5d27f1f-745e-41da-b751-df18b2dead11",
   "metadata": {},
   "outputs": [
    {
     "data": {
      "text/plain": [
       "b'W3sicXVlc3Rpb24iOiAiRW50ZXIgdGhlIGNvZGUgZm91bmQgaW4gRXgxLnR4dDoiLCAidHlwZSI6ICJudW1lcmljIiwgImFuc3dlcnMiOiBbeyJ0eXBlIjogInZhbHVlIiwgInZhbHVlIjogNDM1NCwgImNvcnJlY3QiOiB0cnVlLCAiZmVlZGJhY2siOiAiQ29ycmVjdC4ifSwgeyJ0eXBlIjogImRlZmF1bHQiLCAiZmVlZGJhY2siOiAiSW5jb3JyZWN0LiJ9XX1d'"
      ]
     },
     "execution_count": 9,
     "metadata": {},
     "output_type": "execute_result"
    }
   ],
   "source": [
    "b64encode(bytes(json.dumps(ex1_question), 'utf8'))"
   ]
  },
  {
   "cell_type": "code",
   "execution_count": null,
   "id": "90a2badd-6fcd-414d-8c7f-8ea4cb8c1a08",
   "metadata": {},
   "outputs": [],
   "source": []
  }
 ],
 "metadata": {
  "kernelspec": {
   "display_name": "Python 3 (ipykernel)",
   "language": "python",
   "name": "python3"
  },
  "language_info": {
   "codemirror_mode": {
    "name": "ipython",
    "version": 3
   },
   "file_extension": ".py",
   "mimetype": "text/x-python",
   "name": "python",
   "nbconvert_exporter": "python",
   "pygments_lexer": "ipython3",
   "version": "3.9.13"
  }
 },
 "nbformat": 4,
 "nbformat_minor": 5
}
